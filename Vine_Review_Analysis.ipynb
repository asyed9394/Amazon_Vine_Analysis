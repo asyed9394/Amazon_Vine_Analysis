{
  "nbformat": 4,
  "nbformat_minor": 0,
  "metadata": {
    "colab": {
      "name": "Vine_Review_Analysis.ipynb",
      "provenance": [],
      "collapsed_sections": []
    },
    "kernelspec": {
      "name": "python3",
      "display_name": "Python 3"
    },
    "language_info": {
      "name": "python"
    }
  },
  "cells": [
    {
      "cell_type": "code",
      "metadata": {
        "colab": {
          "base_uri": "https://localhost:8080/"
        },
        "id": "eZzyBT4FqewD",
        "outputId": "fa9036eb-9720-45b5-916b-5d0b2a58bebd"
      },
      "source": [
        "import os\n",
        "# Find the latest version of spark 2.0  from http://www-us.apache.org/dist/spark/ and enter as the spark version\n",
        "# For example:\n",
        "# spark_version = 'spark-3.0.0'\n",
        "spark_version = 'spark-3.1.1'\n",
        "os.environ['SPARK_VERSION']=spark_version\n",
        "\n",
        "# Install Spark and Java\n",
        "!apt-get update\n",
        "!apt-get install openjdk-11-jdk-headless -qq > /dev/null\n",
        "!wget -q http://www-us.apache.org/dist/spark/$SPARK_VERSION/$SPARK_VERSION-bin-hadoop2.7.tgz\n",
        "!tar xf $SPARK_VERSION-bin-hadoop2.7.tgz\n",
        "!pip install -q findspark\n",
        "\n",
        "# Set Environment Variables\n",
        "import os\n",
        "os.environ[\"JAVA_HOME\"] = \"/usr/lib/jvm/java-11-openjdk-amd64\"\n",
        "os.environ[\"SPARK_HOME\"] = f\"/content/{spark_version}-bin-hadoop2.7\"\n",
        "\n",
        "# Start a SparkSession\n",
        "import findspark\n",
        "findspark.init()"
      ],
      "execution_count": 3,
      "outputs": [
        {
          "output_type": "stream",
          "text": [
            "\r0% [Working]\r            \rGet:1 http://security.ubuntu.com/ubuntu bionic-security InRelease [88.7 kB]\n",
            "Get:2 https://cloud.r-project.org/bin/linux/ubuntu bionic-cran40/ InRelease [3,626 B]\n",
            "Get:3 http://ppa.launchpad.net/c2d4u.team/c2d4u4.0+/ubuntu bionic InRelease [15.9 kB]\n",
            "Hit:4 http://archive.ubuntu.com/ubuntu bionic InRelease\n",
            "Get:5 http://archive.ubuntu.com/ubuntu bionic-updates InRelease [88.7 kB]\n",
            "Ign:6 https://developer.download.nvidia.com/compute/cuda/repos/ubuntu1804/x86_64  InRelease\n",
            "Ign:7 https://developer.download.nvidia.com/compute/machine-learning/repos/ubuntu1804/x86_64  InRelease\n",
            "Get:8 https://developer.download.nvidia.com/compute/cuda/repos/ubuntu1804/x86_64  Release [697 B]\n",
            "Hit:9 https://developer.download.nvidia.com/compute/machine-learning/repos/ubuntu1804/x86_64  Release\n",
            "Hit:10 http://ppa.launchpad.net/cran/libgit2/ubuntu bionic InRelease\n",
            "Get:11 https://developer.download.nvidia.com/compute/cuda/repos/ubuntu1804/x86_64  Release.gpg [836 B]\n",
            "Get:12 http://archive.ubuntu.com/ubuntu bionic-backports InRelease [74.6 kB]\n",
            "Hit:13 http://ppa.launchpad.net/deadsnakes/ppa/ubuntu bionic InRelease\n",
            "Get:14 http://security.ubuntu.com/ubuntu bionic-security/multiverse amd64 Packages [24.7 kB]\n",
            "Get:15 http://security.ubuntu.com/ubuntu bionic-security/restricted amd64 Packages [396 kB]\n",
            "Get:16 http://security.ubuntu.com/ubuntu bionic-security/main amd64 Packages [2,116 kB]\n",
            "Hit:17 http://ppa.launchpad.net/graphics-drivers/ppa/ubuntu bionic InRelease\n",
            "Get:18 http://ppa.launchpad.net/c2d4u.team/c2d4u4.0+/ubuntu bionic/main Sources [1,756 kB]\n",
            "Ign:20 https://developer.download.nvidia.com/compute/cuda/repos/ubuntu1804/x86_64  Packages\n",
            "Get:20 https://developer.download.nvidia.com/compute/cuda/repos/ubuntu1804/x86_64  Packages [741 kB]\n",
            "Get:21 http://ppa.launchpad.net/c2d4u.team/c2d4u4.0+/ubuntu bionic/main amd64 Packages [899 kB]\n",
            "Get:22 http://archive.ubuntu.com/ubuntu bionic-updates/main amd64 Packages [2,546 kB]\n",
            "Get:23 http://archive.ubuntu.com/ubuntu bionic-updates/universe amd64 Packages [2,181 kB]\n",
            "Get:24 http://archive.ubuntu.com/ubuntu bionic-updates/restricted amd64 Packages [426 kB]\n",
            "Get:25 http://archive.ubuntu.com/ubuntu bionic-updates/multiverse amd64 Packages [31.6 kB]\n",
            "Fetched 11.4 MB in 3s (3,719 kB/s)\n",
            "Reading package lists... Done\n"
          ],
          "name": "stdout"
        }
      ]
    },
    {
      "cell_type": "code",
      "metadata": {
        "id": "JbhPusgAq4-b"
      },
      "source": [
        "from pyspark.sql import SparkSession\n",
        "spark = SparkSession.builder.appName(\"Vine-analysis\").getOrCreate()"
      ],
      "execution_count": 4,
      "outputs": []
    },
    {
      "cell_type": "code",
      "metadata": {
        "colab": {
          "base_uri": "https://localhost:8080/"
        },
        "id": "DIFVhitGq2Ub",
        "outputId": "6c9f6ca8-75fc-4940-9f7c-1d67d34a8a40"
      },
      "source": [
        "# Read in data from S3 Buckets\n",
        "from pyspark import SparkFiles\n",
        "url = \"https://s3.amazonaws.com/amazon-reviews-pds/tsv/amazon_reviews_us_Grocery_v1_00.tsv.gz\"\n",
        "spark.sparkContext.addFile(url)\n",
        "df = spark.read.option(\"encoding\", \"UTF-8\").csv(SparkFiles.get(\"amazon_reviews_us_Grocery_v1_00.tsv.gz\"), sep=\"\\t\", header=True, inferSchema=True , dateFormat=\"yyyy-MM-dd\")\n",
        "df.show()"
      ],
      "execution_count": 5,
      "outputs": [
        {
          "output_type": "stream",
          "text": [
            "+-----------+-----------+--------------+----------+--------------+--------------------+----------------+-----------+-------------+-----------+----+-----------------+--------------------+--------------------+-----------+\n",
            "|marketplace|customer_id|     review_id|product_id|product_parent|       product_title|product_category|star_rating|helpful_votes|total_votes|vine|verified_purchase|     review_headline|         review_body|review_date|\n",
            "+-----------+-----------+--------------+----------+--------------+--------------------+----------------+-----------+-------------+-----------+----+-----------------+--------------------+--------------------+-----------+\n",
            "|         US|   42521656|R26MV8D0KG6QI6|B000SAQCWC|     159713740|The Cravings Plac...|         Grocery|          5|            0|          0|   N|                Y|Using these for y...|As a family aller...| 2015-08-31|\n",
            "|         US|   12049833|R1OF8GP57AQ1A0|B00509LVIQ|     138680402|Mauna Loa Macadam...|         Grocery|          5|            0|          0|   N|                Y|           Wonderful|My favorite nut. ...| 2015-08-31|\n",
            "|         US|     107642|R3VDC1QB6MC4ZZ|B00KHXESLC|     252021703|Organic Matcha Gr...|         Grocery|          5|            0|          0|   N|                N|          Five Stars|This green tea ta...| 2015-08-31|\n",
            "|         US|    6042304|R12FA3DCF8F9ER|B000F8JIIC|     752728342|15oz Raspberry Ly...|         Grocery|          5|            0|          0|   N|                Y|          Five Stars|I love Melissa's ...| 2015-08-31|\n",
            "|         US|   18123821| RTWHVNV6X4CNJ|B004ZWR9RQ|     552138758|Stride Spark Kine...|         Grocery|          5|            0|          0|   N|                Y|          Five Stars|                good| 2015-08-31|\n",
            "|         US|   23649464| RIG9AWFOGRDVO|B00AL6QBZ6|     681475449|Herr's Popcorn Ho...|         Grocery|          2|            1|          1|   N|                Y|           Not Happy|The popcorn was s...| 2015-08-31|\n",
            "|         US|   32778285|R1S1XSG4ZCHDGS|B00BCNSTRA|     578681693|Larabar uber, 1.4...|         Grocery|          5|            1|          1|   N|                Y|          Five Stars|Love these bars, ...| 2015-08-31|\n",
            "|         US|   46612941| RB15NBVY5ELVW|B0089MM2BG|     350968436|Shirakiku Soba No...|         Grocery|          5|            2|          2|   N|                Y|          Five Stars|Love the taste bu...| 2015-08-31|\n",
            "|         US|   31525399| R56358YM1ZJ7I|B00Y1C9770|     729982780|Jif Chocolate Nut...|         Grocery|          5|            0|          0|   N|                N|      Great tasting!|I'm a member of t...| 2015-08-31|\n",
            "|         US|   19624355|R1ODXB3C9UP3NL|B00J074W94|       2499702|Orgain Organic Pl...|         Grocery|          1|            1|          3|   N|                N|Disgusting now an...|Used to be a dece...| 2015-08-31|\n",
            "|         US|   31910375|R155ZMVLD5C9BP|B0001VKKOO|     189938205|Bragg - All Natur...|         Grocery|          4|            3|          4|   N|                Y|If you like soy s...|I cannot tell the...| 2015-08-31|\n",
            "|         US|   12816533|R2IXW43PUNYM0G|B007TGH4CK|     398128262|Wholesome Sweeten...|         Grocery|          4|            1|          1|   N|                Y|          Four Stars|Good flavor and s...| 2015-08-31|\n",
            "|         US|   23208852|R3LYEG1QCK2BG0|B002HMN6SC|      18057786|Kadoya Pure Sesam...|         Grocery|          5|            0|          0|   N|                Y|          Five Stars|Great to use in r...| 2015-08-31|\n",
            "|         US|   17348415|R20LREICPM3YH0|B004NRHAZO|     595020880|Nishiki Premium B...|         Grocery|          5|            0|          0|   N|                Y|          Five Stars|It's rice. Have e...| 2015-08-31|\n",
            "|         US|   46763945| RHA5COCZDVB13|B00V7LJIG8|     173088090|Everly Passion Fr...|         Grocery|          5|            0|          0|   N|                Y|          Five Stars|Very good tasting...| 2015-08-31|\n",
            "|         US|     961747| RT9BGRQANMANE|B0000E2YFI|     120269621|Charms Blue Razzb...|         Grocery|          5|            0|          0|   N|                Y|           Excellent|They were perfect...| 2015-08-31|\n",
            "|         US|   16888081| ROD1TU5JCS7JQ|B00VK5SQOQ|     204992966|Food Should Taste...|         Grocery|          5|            0|          0|   N|                N|              YUMMY!|Wow, these are so...| 2015-08-31|\n",
            "|         US|   22765168|R3T6TTD2IN0EFZ|B00XDXMLL2|     971154239|Skippy Creamy Pea...|         Grocery|          1|            4|          4|   N|                N|1 Out Of 5 Of My ...|I bought this fro...| 2015-08-31|\n",
            "|         US|   36328996|R1OCUGZ444NKV3|B00MN4KX3A|     787182505|Celestial Seasoni...|         Grocery|          5|            5|          5|   N|                Y|delicious tea and...|I love this tea, ...| 2015-08-31|\n",
            "|         US|   27092724| RCQQGWTC4J4TZ|B004NTCE1M|     653570135|Nutiva Organic Vi...|         Grocery|          4|            0|          0|   N|                Y|    Best coconut oil|I have used servo...| 2015-08-31|\n",
            "+-----------+-----------+--------------+----------+--------------+--------------------+----------------+-----------+-------------+-----------+----+-----------------+--------------------+--------------------+-----------+\n",
            "only showing top 20 rows\n",
            "\n"
          ],
          "name": "stdout"
        }
      ]
    },
    {
      "cell_type": "code",
      "metadata": {
        "colab": {
          "base_uri": "https://localhost:8080/"
        },
        "id": "oQgQCqhTrYpU",
        "outputId": "37fd5cff-4616-4e75-d8dd-dbcc9bda0868"
      },
      "source": [
        "# Create the vine_table. DataFrame\n",
        "#excluding product id B004BUU488 where the data is not loaded proerply based on previous analysis.\n",
        "vine_df = df.select([\"review_id\",\"star_rating\",\"helpful_votes\",\"total_votes\",\"vine\",\"verified_purchase\"]).where(\"product_id != 'B004BUU488'\")\n",
        "vine_df.show()"
      ],
      "execution_count": 94,
      "outputs": [
        {
          "output_type": "stream",
          "text": [
            "+--------------+-----------+-------------+-----------+----+-----------------+\n",
            "|     review_id|star_rating|helpful_votes|total_votes|vine|verified_purchase|\n",
            "+--------------+-----------+-------------+-----------+----+-----------------+\n",
            "|R26MV8D0KG6QI6|          5|            0|          0|   N|                Y|\n",
            "|R1OF8GP57AQ1A0|          5|            0|          0|   N|                Y|\n",
            "|R3VDC1QB6MC4ZZ|          5|            0|          0|   N|                N|\n",
            "|R12FA3DCF8F9ER|          5|            0|          0|   N|                Y|\n",
            "| RTWHVNV6X4CNJ|          5|            0|          0|   N|                Y|\n",
            "| RIG9AWFOGRDVO|          2|            1|          1|   N|                Y|\n",
            "|R1S1XSG4ZCHDGS|          5|            1|          1|   N|                Y|\n",
            "| RB15NBVY5ELVW|          5|            2|          2|   N|                Y|\n",
            "| R56358YM1ZJ7I|          5|            0|          0|   N|                N|\n",
            "|R1ODXB3C9UP3NL|          1|            1|          3|   N|                N|\n",
            "|R155ZMVLD5C9BP|          4|            3|          4|   N|                Y|\n",
            "|R2IXW43PUNYM0G|          4|            1|          1|   N|                Y|\n",
            "|R3LYEG1QCK2BG0|          5|            0|          0|   N|                Y|\n",
            "|R20LREICPM3YH0|          5|            0|          0|   N|                Y|\n",
            "| RHA5COCZDVB13|          5|            0|          0|   N|                Y|\n",
            "| RT9BGRQANMANE|          5|            0|          0|   N|                Y|\n",
            "| ROD1TU5JCS7JQ|          5|            0|          0|   N|                N|\n",
            "|R3T6TTD2IN0EFZ|          1|            4|          4|   N|                N|\n",
            "|R1OCUGZ444NKV3|          5|            5|          5|   N|                Y|\n",
            "| RCQQGWTC4J4TZ|          4|            0|          0|   N|                Y|\n",
            "+--------------+-----------+-------------+-----------+----+-----------------+\n",
            "only showing top 20 rows\n",
            "\n"
          ],
          "name": "stdout"
        }
      ]
    },
    {
      "cell_type": "markdown",
      "metadata": {
        "id": "cyubVhugsCys"
      },
      "source": [
        "Filter the data and create a new DataFrame or table to retrieve all the rows where the total_votes count is equal to or greater than 20 to pick reviews that are more likely to be helpful and to avoid having division by zero errors later on."
      ]
    },
    {
      "cell_type": "code",
      "metadata": {
        "colab": {
          "base_uri": "https://localhost:8080/"
        },
        "id": "Vn1MyvSusAvO",
        "outputId": "ecc771a6-585a-4de8-ea77-5f80cf85f2fd"
      },
      "source": [
        "#checking data for total votes >20\n",
        "vine_total_count_df=vine_df.groupby(\"total_votes\").count()\n",
        "vine_total_count_df.orderBy(\"count\",ascending=False).where(\"count >=20\").show(25)"
      ],
      "execution_count": 96,
      "outputs": [
        {
          "output_type": "stream",
          "text": [
            "+-----------+-------+\n",
            "|total_votes|  count|\n",
            "+-----------+-------+\n",
            "|          0|1367577|\n",
            "|          1| 440359|\n",
            "|          2| 200836|\n",
            "|          3| 109182|\n",
            "|          4|  68340|\n",
            "|          5|  44819|\n",
            "|          6|  31141|\n",
            "|          7|  23032|\n",
            "|          8|  17536|\n",
            "|          9|  13604|\n",
            "|         10|  10962|\n",
            "|         11|   8656|\n",
            "|         12|   7214|\n",
            "|         13|   6043|\n",
            "|         14|   5025|\n",
            "|         15|   4385|\n",
            "|         16|   3667|\n",
            "|         17|   3202|\n",
            "|         18|   2813|\n",
            "|         19|   2520|\n",
            "|         20|   2203|\n",
            "|         21|   1982|\n",
            "|         22|   1795|\n",
            "|         23|   1623|\n",
            "|         24|   1445|\n",
            "+-----------+-------+\n",
            "only showing top 25 rows\n",
            "\n"
          ],
          "name": "stdout"
        }
      ]
    },
    {
      "cell_type": "code",
      "metadata": {
        "colab": {
          "base_uri": "https://localhost:8080/"
        },
        "id": "4O5zIvvTwaJt",
        "outputId": "ec1ed271-11f1-4568-f476-0b8b370409e4"
      },
      "source": [
        "#only focus on reviews where total_votes >=20\n",
        "vine_review_df = vine_df.where(\"total_votes >=20\")\n",
        "vine_review_df.show()"
      ],
      "execution_count": 7,
      "outputs": [
        {
          "output_type": "stream",
          "text": [
            "+--------------+-----------+-------------+-----------+----+-----------------+\n",
            "|     review_id|star_rating|helpful_votes|total_votes|vine|verified_purchase|\n",
            "+--------------+-----------+-------------+-----------+----+-----------------+\n",
            "|R1OAZUG90XPU2U|          5|          250|        274|   N|                Y|\n",
            "|R23VPTUJ8I8NR5|          1|           28|         30|   N|                Y|\n",
            "|R33VIWRD2X5IA9|          1|            0|         20|   N|                Y|\n",
            "| R6SRJFJ5YH4UM|          5|           23|         26|   N|                Y|\n",
            "|R3DOS07BIMP4DJ|          2|           32|         42|   N|                N|\n",
            "|R26UFXLLQ2N0CR|          1|            0|         20|   N|                Y|\n",
            "|R30PGWX4HN1CFG|          1|           85|         95|   N|                Y|\n",
            "|R2XASGYIENUHQO|          5|           28|         32|   N|                Y|\n",
            "|R34UQPQCTSKQK9|          5|           23|         26|   N|                Y|\n",
            "|R2M6WNM2OZZHKS|          1|           20|         22|   N|                N|\n",
            "| RO6JNMUJDE1LP|          5|           37|         50|   N|                N|\n",
            "|R1WNL4OIMSKDBR|          5|           35|         36|   N|                Y|\n",
            "| RDGWZ3U8LQZE6|          2|           48|         54|   N|                Y|\n",
            "|R3HFIKVOUDHT4I|          3|           64|         67|   N|                N|\n",
            "| R22M0N2OZSICN|          5|           21|         23|   N|                Y|\n",
            "|R1E43139TRHB5T|          5|           22|         22|   N|                Y|\n",
            "|R1L40ST6C2UJHK|          5|          262|        272|   N|                Y|\n",
            "|R1XISUX6DDSXKZ|          5|           37|         41|   N|                Y|\n",
            "|R35MWO8UIXOA37|          1|           20|         22|   N|                Y|\n",
            "|R1RZ0G02ASP7SF|          2|           35|         43|   N|                Y|\n",
            "+--------------+-----------+-------------+-----------+----+-----------------+\n",
            "only showing top 20 rows\n",
            "\n"
          ],
          "name": "stdout"
        }
      ]
    },
    {
      "cell_type": "code",
      "metadata": {
        "colab": {
          "base_uri": "https://localhost:8080/"
        },
        "id": "vMMDcpgvxj18",
        "outputId": "5e35dc14-b507-483b-9378-6ba0315f0566"
      },
      "source": [
        "# from the above dataframe filter on the reviews where atleat reivew is votied helpful 50% or more time compare to total votes\n",
        "helpful_reivews_df = vine_review_df.withColumn(\"per_helpful\",(vine_review_df[\"helpful_votes\"]/vine_review_df[\"total_votes\"])*100.00).where(\"per_helpful>=50\")\n",
        "helpful_reivews_df.show()"
      ],
      "execution_count": 8,
      "outputs": [
        {
          "output_type": "stream",
          "text": [
            "+--------------+-----------+-------------+-----------+----+-----------------+-----------------+\n",
            "|     review_id|star_rating|helpful_votes|total_votes|vine|verified_purchase|      per_helpful|\n",
            "+--------------+-----------+-------------+-----------+----+-----------------+-----------------+\n",
            "|R1OAZUG90XPU2U|          5|          250|        274|   N|                Y|91.24087591240875|\n",
            "|R23VPTUJ8I8NR5|          1|           28|         30|   N|                Y|93.33333333333333|\n",
            "| R6SRJFJ5YH4UM|          5|           23|         26|   N|                Y|88.46153846153845|\n",
            "|R3DOS07BIMP4DJ|          2|           32|         42|   N|                N|76.19047619047619|\n",
            "|R30PGWX4HN1CFG|          1|           85|         95|   N|                Y|89.47368421052632|\n",
            "|R2XASGYIENUHQO|          5|           28|         32|   N|                Y|             87.5|\n",
            "|R34UQPQCTSKQK9|          5|           23|         26|   N|                Y|88.46153846153845|\n",
            "|R2M6WNM2OZZHKS|          1|           20|         22|   N|                N| 90.9090909090909|\n",
            "| RO6JNMUJDE1LP|          5|           37|         50|   N|                N|             74.0|\n",
            "|R1WNL4OIMSKDBR|          5|           35|         36|   N|                Y|97.22222222222221|\n",
            "| RDGWZ3U8LQZE6|          2|           48|         54|   N|                Y|88.88888888888889|\n",
            "|R3HFIKVOUDHT4I|          3|           64|         67|   N|                N|95.52238805970148|\n",
            "| R22M0N2OZSICN|          5|           21|         23|   N|                Y|91.30434782608695|\n",
            "|R1E43139TRHB5T|          5|           22|         22|   N|                Y|            100.0|\n",
            "|R1L40ST6C2UJHK|          5|          262|        272|   N|                Y|96.32352941176471|\n",
            "|R1XISUX6DDSXKZ|          5|           37|         41|   N|                Y| 90.2439024390244|\n",
            "|R35MWO8UIXOA37|          1|           20|         22|   N|                Y| 90.9090909090909|\n",
            "|R1RZ0G02ASP7SF|          2|           35|         43|   N|                Y| 81.3953488372093|\n",
            "|R10HZ77HAWVJH6|          5|           19|         22|   N|                Y|86.36363636363636|\n",
            "|R1PI04EDGLLCXV|          5|           25|         28|   N|                Y|89.28571428571429|\n",
            "+--------------+-----------+-------------+-----------+----+-----------------+-----------------+\n",
            "only showing top 20 rows\n",
            "\n"
          ],
          "name": "stdout"
        }
      ]
    },
    {
      "cell_type": "code",
      "metadata": {
        "colab": {
          "base_uri": "https://localhost:8080/"
        },
        "id": "eL6MeM9Xy2L7",
        "outputId": "8acb9184-cc6f-4818-ac12-8977d9a0ee85"
      },
      "source": [
        "#check values in vine column to confirm if vine has only two possible values Y or N\n",
        "vine_groupby_df = helpful_reivews_df.groupby(\"vine\",\"star_rating\").count()\n",
        "vine_groupby_df.orderBy(\"vine\",\"star_rating\").show()"
      ],
      "execution_count": 51,
      "outputs": [
        {
          "output_type": "stream",
          "text": [
            "+----+-----------+-----+\n",
            "|vine|star_rating|count|\n",
            "+----+-----------+-----+\n",
            "|   N|          1| 6412|\n",
            "|   N|          2| 1655|\n",
            "|   N|          3| 1931|\n",
            "|   N|          4| 2600|\n",
            "|   N|          5|15689|\n",
            "|   Y|          1|    7|\n",
            "|   Y|          2|    6|\n",
            "|   Y|          3|   11|\n",
            "|   Y|          4|   17|\n",
            "|   Y|          5|   20|\n",
            "+----+-----------+-----+\n",
            "\n"
          ],
          "name": "stdout"
        }
      ]
    },
    {
      "cell_type": "code",
      "metadata": {
        "colab": {
          "base_uri": "https://localhost:8080/"
        },
        "id": "7dYOvhrQuwG9",
        "outputId": "597fc645-d0c9-41fd-e8c3-94e1120e5c94"
      },
      "source": [
        "#How many vine reviews vs non vine reviews\n",
        "helpful_reivews_df.groupby(\"vine\").count().show()"
      ],
      "execution_count": 89,
      "outputs": [
        {
          "output_type": "stream",
          "text": [
            "+----+-----+\n",
            "|vine|count|\n",
            "+----+-----+\n",
            "|   Y|   61|\n",
            "|   N|28287|\n",
            "+----+-----+\n",
            "\n"
          ],
          "name": "stdout"
        }
      ]
    },
    {
      "cell_type": "code",
      "metadata": {
        "colab": {
          "base_uri": "https://localhost:8080/"
        },
        "id": "bIzXXqDhzfxm",
        "outputId": "46219e58-d1f7-4f40-bfa4-7ab0f6abafea"
      },
      "source": [
        "#filter helpful views where vine = Y  as paid reviews\n",
        "vine_paid_reviews_df = helpful_reivews_df.where(\"vine == 'Y'\")\n",
        "vine_paid_reviews_df.show()"
      ],
      "execution_count": 10,
      "outputs": [
        {
          "output_type": "stream",
          "text": [
            "+--------------+-----------+-------------+-----------+----+-----------------+-----------------+\n",
            "|     review_id|star_rating|helpful_votes|total_votes|vine|verified_purchase|      per_helpful|\n",
            "+--------------+-----------+-------------+-----------+----+-----------------+-----------------+\n",
            "|R3MKO875WGIEBJ|          5|           34|         37|   Y|                N| 91.8918918918919|\n",
            "|R3OPNTK61FQ7MP|          5|           32|         37|   Y|                N|86.48648648648648|\n",
            "| RMDRU8I773X5U|          4|           22|         25|   Y|                N|             88.0|\n",
            "| RR83RGWFEFZCL|          3|           61|         64|   Y|                N|          95.3125|\n",
            "|R2TMZ7GV8SPIRV|          4|           23|         23|   Y|                N|            100.0|\n",
            "| RX88JLUIFA4Q2|          4|           84|         87|   Y|                Y|96.55172413793103|\n",
            "| RV3AHTDRHDH7R|          5|          253|        258|   Y|                N|98.06201550387597|\n",
            "|R13EGJI8C8YJ4Y|          5|           19|         20|   Y|                N|             95.0|\n",
            "| R9SNSQTK4TJOG|          2|           11|         20|   Y|                N|55.00000000000001|\n",
            "|R1A76AK493C8P8|          5|           83|         90|   Y|                N|92.22222222222223|\n",
            "|R3LOTAAVOZ9D1L|          3|           19|         26|   Y|                N|73.07692307692307|\n",
            "|R1BRN47DX8UXA7|          5|          154|        159|   Y|                N|96.85534591194968|\n",
            "|R13CEXESMDKT3D|          3|           33|         36|   Y|                N|91.66666666666666|\n",
            "|R1OM89J7BP8MUZ|          1|           23|         29|   Y|                N| 79.3103448275862|\n",
            "| RZP9LBF95AEHO|          3|           56|         58|   Y|                N|96.55172413793103|\n",
            "|R3V9P61EYXDNRV|          5|           51|         54|   Y|                N|94.44444444444444|\n",
            "|R2BDT05RK7TOJ9|          5|           21|         22|   Y|                N|95.45454545454545|\n",
            "|R2PFVGR88KV91R|          2|           16|         23|   Y|                N|69.56521739130434|\n",
            "|R3BV8N52HPNJJM|          4|           18|         20|   Y|                N|             90.0|\n",
            "|R2GOJRL2PW4JNM|          4|           24|         30|   Y|                N|             80.0|\n",
            "+--------------+-----------+-------------+-----------+----+-----------------+-----------------+\n",
            "only showing top 20 rows\n",
            "\n"
          ],
          "name": "stdout"
        }
      ]
    },
    {
      "cell_type": "code",
      "metadata": {
        "colab": {
          "base_uri": "https://localhost:8080/"
        },
        "id": "EGN9oBrOzzCj",
        "outputId": "1b74ee5a-0fe8-48bd-ce88-67236d8dcac6"
      },
      "source": [
        "#filter helpful views where vine = N  as i,e unpaid reviews\n",
        "vine_unpaid_reviews_df = helpful_reivews_df.where(\"vine == 'N'\")\n",
        "vine_unpaid_reviews_df.show()"
      ],
      "execution_count": 11,
      "outputs": [
        {
          "output_type": "stream",
          "text": [
            "+--------------+-----------+-------------+-----------+----+-----------------+-----------------+\n",
            "|     review_id|star_rating|helpful_votes|total_votes|vine|verified_purchase|      per_helpful|\n",
            "+--------------+-----------+-------------+-----------+----+-----------------+-----------------+\n",
            "|R1OAZUG90XPU2U|          5|          250|        274|   N|                Y|91.24087591240875|\n",
            "|R23VPTUJ8I8NR5|          1|           28|         30|   N|                Y|93.33333333333333|\n",
            "| R6SRJFJ5YH4UM|          5|           23|         26|   N|                Y|88.46153846153845|\n",
            "|R3DOS07BIMP4DJ|          2|           32|         42|   N|                N|76.19047619047619|\n",
            "|R30PGWX4HN1CFG|          1|           85|         95|   N|                Y|89.47368421052632|\n",
            "|R2XASGYIENUHQO|          5|           28|         32|   N|                Y|             87.5|\n",
            "|R34UQPQCTSKQK9|          5|           23|         26|   N|                Y|88.46153846153845|\n",
            "|R2M6WNM2OZZHKS|          1|           20|         22|   N|                N| 90.9090909090909|\n",
            "| RO6JNMUJDE1LP|          5|           37|         50|   N|                N|             74.0|\n",
            "|R1WNL4OIMSKDBR|          5|           35|         36|   N|                Y|97.22222222222221|\n",
            "| RDGWZ3U8LQZE6|          2|           48|         54|   N|                Y|88.88888888888889|\n",
            "|R3HFIKVOUDHT4I|          3|           64|         67|   N|                N|95.52238805970148|\n",
            "| R22M0N2OZSICN|          5|           21|         23|   N|                Y|91.30434782608695|\n",
            "|R1E43139TRHB5T|          5|           22|         22|   N|                Y|            100.0|\n",
            "|R1L40ST6C2UJHK|          5|          262|        272|   N|                Y|96.32352941176471|\n",
            "|R1XISUX6DDSXKZ|          5|           37|         41|   N|                Y| 90.2439024390244|\n",
            "|R35MWO8UIXOA37|          1|           20|         22|   N|                Y| 90.9090909090909|\n",
            "|R1RZ0G02ASP7SF|          2|           35|         43|   N|                Y| 81.3953488372093|\n",
            "|R10HZ77HAWVJH6|          5|           19|         22|   N|                Y|86.36363636363636|\n",
            "|R1PI04EDGLLCXV|          5|           25|         28|   N|                Y|89.28571428571429|\n",
            "+--------------+-----------+-------------+-----------+----+-----------------+-----------------+\n",
            "only showing top 20 rows\n",
            "\n"
          ],
          "name": "stdout"
        }
      ]
    },
    {
      "cell_type": "code",
      "metadata": {
        "id": "ayKknRnldSTp"
      },
      "source": [
        "import pyspark.sql.functions as F"
      ],
      "execution_count": 55,
      "outputs": []
    },
    {
      "cell_type": "code",
      "metadata": {
        "id": "pkkLNDSc0NbF"
      },
      "source": [
        "#Paid vine 5 stars reviews summary\n",
        "\n",
        "Total_paid_reviews, Paid_five_star_ratings = vine_paid_reviews_df.count(),vine_paid_reviews_df.where(\"star_rating >=5\").count()\n",
        "\n",
        "Paid_five_star_per = (Paid_five_star_ratings/Total_paid_reviews)*100"
      ],
      "execution_count": 58,
      "outputs": []
    },
    {
      "cell_type": "code",
      "metadata": {
        "id": "_40obDwlYvtf"
      },
      "source": [
        "#UnPaid vine 5 stars reviews summary\n",
        "\n",
        "Total_unpaid_reviews, UnPaid_five_star_ratings = vine_unpaid_reviews_df.count(),vine_unpaid_reviews_df.where(\"star_rating >=5\").count()\n",
        "\n",
        "UnPaid_five_star_per = (UnPaid_five_star_ratings/Total_unpaid_reviews)*100"
      ],
      "execution_count": 40,
      "outputs": []
    },
    {
      "cell_type": "code",
      "metadata": {
        "colab": {
          "base_uri": "https://localhost:8080/"
        },
        "id": "GWsb3wBFXQ7F",
        "outputId": "3dcf99d3-a490-4952-e4ba-5563391e8369"
      },
      "source": [
        "\n",
        "print(\"**************** 5 Star Reviews Summary For Amazon Grocery Products Reviews ****************\")\n",
        "print (\"\\t\\t\\tPaid Reviews\\t\\tUnPaid Reviews\" )\n",
        "print(f\"Total Reviews:\\t\\t\\t{Total_paid_reviews}\\t\\t\\t{Total_unpaid_reviews}\" )\n",
        "print(f\"Total 5 Star Reviews:\\t\\t{Paid_five_star_ratings:}\\t\\t\\t{UnPaid_five_star_ratings}\")\n",
        "print(f\"5 Star Reviews %:\\t\\t{Paid_five_star_per:.2f}%\\t\\t\\t{UnPaid_five_star_per:.2f}%\")\n",
        "\n"
      ],
      "execution_count": 92,
      "outputs": [
        {
          "output_type": "stream",
          "text": [
            "**************** 5 Star Reviews Summary For Amazon Grocery Products Reviews ****************\n",
            "\t\t\tPaid Reviews\t\tUnPaid Reviews\n",
            "Total Reviews:\t\t\t61\t\t\t28287\n",
            "Total 5 Star Reviews:\t\t20\t\t\t15689\n",
            "5 Star Reviews %:\t\t32.79%\t\t\t55.46%\n"
          ],
          "name": "stdout"
        }
      ]
    }
  ]
}