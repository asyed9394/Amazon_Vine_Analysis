{
  "nbformat": 4,
  "nbformat_minor": 0,
  "metadata": {
    "colab": {
      "name": "Amazon_Reviews_ETL.ipynb",
      "provenance": [],
      "collapsed_sections": []
    },
    "kernelspec": {
      "name": "python3",
      "display_name": "Python 3"
    },
    "nteract": {
      "version": "0.12.3"
    },
    "language_info": {
      "name": "python"
    }
  },
  "cells": [
    {
      "cell_type": "code",
      "metadata": {
        "id": "V58rxea0HqSa",
        "colab": {
          "base_uri": "https://localhost:8080/"
        },
        "outputId": "248c1044-238a-449b-b159-44ef438b542b"
      },
      "source": [
        "import os\n",
        "# Find the latest version of spark 2.0  from http://www-us.apache.org/dist/spark/ and enter as the spark version\n",
        "# For example:\n",
        "# spark_version = 'spark-3.0.0'\n",
        "spark_version = 'spark-3.1.1'\n",
        "os.environ['SPARK_VERSION']=spark_version\n",
        "\n",
        "# Install Spark and Java\n",
        "!apt-get update\n",
        "!apt-get install openjdk-11-jdk-headless -qq > /dev/null\n",
        "!wget -q http://www-us.apache.org/dist/spark/$SPARK_VERSION/$SPARK_VERSION-bin-hadoop2.7.tgz\n",
        "!tar xf $SPARK_VERSION-bin-hadoop2.7.tgz\n",
        "!pip install -q findspark\n",
        "\n",
        "# Set Environment Variables\n",
        "import os\n",
        "os.environ[\"JAVA_HOME\"] = \"/usr/lib/jvm/java-11-openjdk-amd64\"\n",
        "os.environ[\"SPARK_HOME\"] = f\"/content/{spark_version}-bin-hadoop2.7\"\n",
        "\n",
        "# Start a SparkSession\n",
        "import findspark\n",
        "findspark.init()"
      ],
      "execution_count": 3,
      "outputs": [
        {
          "output_type": "stream",
          "text": [
            "\r0% [Working]\r            \rIgn:1 https://developer.download.nvidia.com/compute/cuda/repos/ubuntu1804/x86_64  InRelease\n",
            "\r0% [Connecting to archive.ubuntu.com (91.189.88.152)] [Connecting to security.u\r                                                                               \rHit:2 https://cloud.r-project.org/bin/linux/ubuntu bionic-cran40/ InRelease\n",
            "\r0% [Connecting to archive.ubuntu.com (91.189.88.152)] [Connecting to security.u\r0% [2 InRelease gpgv 3,626 B] [Connecting to archive.ubuntu.com (91.189.88.152)\r                                                                               \rIgn:3 https://developer.download.nvidia.com/compute/machine-learning/repos/ubuntu1804/x86_64  InRelease\n",
            "Hit:4 https://developer.download.nvidia.com/compute/cuda/repos/ubuntu1804/x86_64  Release\n",
            "Hit:5 http://ppa.launchpad.net/c2d4u.team/c2d4u4.0+/ubuntu bionic InRelease\n",
            "Hit:6 https://developer.download.nvidia.com/compute/machine-learning/repos/ubuntu1804/x86_64  Release\n",
            "Hit:7 http://security.ubuntu.com/ubuntu bionic-security InRelease\n",
            "Hit:8 http://archive.ubuntu.com/ubuntu bionic InRelease\n",
            "Hit:9 http://archive.ubuntu.com/ubuntu bionic-updates InRelease\n",
            "Hit:10 http://ppa.launchpad.net/cran/libgit2/ubuntu bionic InRelease\n",
            "Hit:11 http://archive.ubuntu.com/ubuntu bionic-backports InRelease\n",
            "Hit:13 http://ppa.launchpad.net/deadsnakes/ppa/ubuntu bionic InRelease\n",
            "Hit:14 http://ppa.launchpad.net/graphics-drivers/ppa/ubuntu bionic InRelease\n",
            "Reading package lists... Done\n"
          ],
          "name": "stdout"
        }
      ]
    },
    {
      "cell_type": "code",
      "metadata": {
        "id": "_xKwTpATHqSe",
        "colab": {
          "base_uri": "https://localhost:8080/"
        },
        "outputId": "b78978ae-3be8-458b-b6fe-c18730747dfe"
      },
      "source": [
        "# Download the Postgres driver that will allow Spark to interact with Postgres.\n",
        "!wget https://jdbc.postgresql.org/download/postgresql-42.2.16.jar"
      ],
      "execution_count": 4,
      "outputs": [
        {
          "output_type": "stream",
          "text": [
            "--2021-04-25 16:10:42--  https://jdbc.postgresql.org/download/postgresql-42.2.16.jar\n",
            "Resolving jdbc.postgresql.org (jdbc.postgresql.org)... 72.32.157.228, 2001:4800:3e1:1::228\n",
            "Connecting to jdbc.postgresql.org (jdbc.postgresql.org)|72.32.157.228|:443... connected.\n",
            "HTTP request sent, awaiting response... 200 OK\n",
            "Length: 1002883 (979K) [application/java-archive]\n",
            "Saving to: ‘postgresql-42.2.16.jar’\n",
            "\n",
            "postgresql-42.2.16. 100%[===================>] 979.38K  --.-KB/s    in 0.09s   \n",
            "\n",
            "2021-04-25 16:10:43 (10.8 MB/s) - ‘postgresql-42.2.16.jar’ saved [1002883/1002883]\n",
            "\n"
          ],
          "name": "stdout"
        }
      ]
    },
    {
      "cell_type": "code",
      "metadata": {
        "id": "MMqDAjVS0KN9"
      },
      "source": [
        "from pyspark.sql import SparkSession\n",
        "spark = SparkSession.builder.appName(\"BigData-Challenge\").config(\"spark.driver.extraClassPath\",\"/content/postgresql-42.2.16.jar\").getOrCreate()"
      ],
      "execution_count": 5,
      "outputs": []
    },
    {
      "cell_type": "markdown",
      "metadata": {
        "id": "cyBsySGuY-9V"
      },
      "source": [
        "### Load Amazon Data into Spark DataFrame"
      ]
    },
    {
      "cell_type": "code",
      "metadata": {
        "id": "CtCmBhQJY-9Z",
        "colab": {
          "base_uri": "https://localhost:8080/"
        },
        "outputId": "82a4562a-2d0a-4754-b484-1a6347c348b4"
      },
      "source": [
        "from pyspark import SparkFiles\n",
        "url = \"https://s3.amazonaws.com/amazon-reviews-pds/tsv/amazon_reviews_us_Grocery_v1_00.tsv.gz\"\n",
        "spark.sparkContext.addFile(url)\n",
        "df = spark.read.option(\"encoding\", \"UTF-8\").csv(SparkFiles.get(\"amazon_reviews_us_Grocery_v1_00.tsv.gz\"), sep=\"\\t\", header=True, inferSchema=True , dateFormat=\"yyyy-MM-dd\")\n",
        "df.show()"
      ],
      "execution_count": 30,
      "outputs": [
        {
          "output_type": "stream",
          "text": [
            "+-----------+-----------+--------------+----------+--------------+--------------------+----------------+-----------+-------------+-----------+----+-----------------+--------------------+--------------------+-----------+\n",
            "|marketplace|customer_id|     review_id|product_id|product_parent|       product_title|product_category|star_rating|helpful_votes|total_votes|vine|verified_purchase|     review_headline|         review_body|review_date|\n",
            "+-----------+-----------+--------------+----------+--------------+--------------------+----------------+-----------+-------------+-----------+----+-----------------+--------------------+--------------------+-----------+\n",
            "|         US|   42521656|R26MV8D0KG6QI6|B000SAQCWC|     159713740|The Cravings Plac...|         Grocery|          5|            0|          0|   N|                Y|Using these for y...|As a family aller...| 2015-08-31|\n",
            "|         US|   12049833|R1OF8GP57AQ1A0|B00509LVIQ|     138680402|Mauna Loa Macadam...|         Grocery|          5|            0|          0|   N|                Y|           Wonderful|My favorite nut. ...| 2015-08-31|\n",
            "|         US|     107642|R3VDC1QB6MC4ZZ|B00KHXESLC|     252021703|Organic Matcha Gr...|         Grocery|          5|            0|          0|   N|                N|          Five Stars|This green tea ta...| 2015-08-31|\n",
            "|         US|    6042304|R12FA3DCF8F9ER|B000F8JIIC|     752728342|15oz Raspberry Ly...|         Grocery|          5|            0|          0|   N|                Y|          Five Stars|I love Melissa's ...| 2015-08-31|\n",
            "|         US|   18123821| RTWHVNV6X4CNJ|B004ZWR9RQ|     552138758|Stride Spark Kine...|         Grocery|          5|            0|          0|   N|                Y|          Five Stars|                good| 2015-08-31|\n",
            "|         US|   23649464| RIG9AWFOGRDVO|B00AL6QBZ6|     681475449|Herr's Popcorn Ho...|         Grocery|          2|            1|          1|   N|                Y|           Not Happy|The popcorn was s...| 2015-08-31|\n",
            "|         US|   32778285|R1S1XSG4ZCHDGS|B00BCNSTRA|     578681693|Larabar uber, 1.4...|         Grocery|          5|            1|          1|   N|                Y|          Five Stars|Love these bars, ...| 2015-08-31|\n",
            "|         US|   46612941| RB15NBVY5ELVW|B0089MM2BG|     350968436|Shirakiku Soba No...|         Grocery|          5|            2|          2|   N|                Y|          Five Stars|Love the taste bu...| 2015-08-31|\n",
            "|         US|   31525399| R56358YM1ZJ7I|B00Y1C9770|     729982780|Jif Chocolate Nut...|         Grocery|          5|            0|          0|   N|                N|      Great tasting!|I'm a member of t...| 2015-08-31|\n",
            "|         US|   19624355|R1ODXB3C9UP3NL|B00J074W94|       2499702|Orgain Organic Pl...|         Grocery|          1|            1|          3|   N|                N|Disgusting now an...|Used to be a dece...| 2015-08-31|\n",
            "|         US|   31910375|R155ZMVLD5C9BP|B0001VKKOO|     189938205|Bragg - All Natur...|         Grocery|          4|            3|          4|   N|                Y|If you like soy s...|I cannot tell the...| 2015-08-31|\n",
            "|         US|   12816533|R2IXW43PUNYM0G|B007TGH4CK|     398128262|Wholesome Sweeten...|         Grocery|          4|            1|          1|   N|                Y|          Four Stars|Good flavor and s...| 2015-08-31|\n",
            "|         US|   23208852|R3LYEG1QCK2BG0|B002HMN6SC|      18057786|Kadoya Pure Sesam...|         Grocery|          5|            0|          0|   N|                Y|          Five Stars|Great to use in r...| 2015-08-31|\n",
            "|         US|   17348415|R20LREICPM3YH0|B004NRHAZO|     595020880|Nishiki Premium B...|         Grocery|          5|            0|          0|   N|                Y|          Five Stars|It's rice. Have e...| 2015-08-31|\n",
            "|         US|   46763945| RHA5COCZDVB13|B00V7LJIG8|     173088090|Everly Passion Fr...|         Grocery|          5|            0|          0|   N|                Y|          Five Stars|Very good tasting...| 2015-08-31|\n",
            "|         US|     961747| RT9BGRQANMANE|B0000E2YFI|     120269621|Charms Blue Razzb...|         Grocery|          5|            0|          0|   N|                Y|           Excellent|They were perfect...| 2015-08-31|\n",
            "|         US|   16888081| ROD1TU5JCS7JQ|B00VK5SQOQ|     204992966|Food Should Taste...|         Grocery|          5|            0|          0|   N|                N|              YUMMY!|Wow, these are so...| 2015-08-31|\n",
            "|         US|   22765168|R3T6TTD2IN0EFZ|B00XDXMLL2|     971154239|Skippy Creamy Pea...|         Grocery|          1|            4|          4|   N|                N|1 Out Of 5 Of My ...|I bought this fro...| 2015-08-31|\n",
            "|         US|   36328996|R1OCUGZ444NKV3|B00MN4KX3A|     787182505|Celestial Seasoni...|         Grocery|          5|            5|          5|   N|                Y|delicious tea and...|I love this tea, ...| 2015-08-31|\n",
            "|         US|   27092724| RCQQGWTC4J4TZ|B004NTCE1M|     653570135|Nutiva Organic Vi...|         Grocery|          4|            0|          0|   N|                Y|    Best coconut oil|I have used servo...| 2015-08-31|\n",
            "+-----------+-----------+--------------+----------+--------------+--------------------+----------------+-----------+-------------+-----------+----+-----------------+--------------------+--------------------+-----------+\n",
            "only showing top 20 rows\n",
            "\n"
          ],
          "name": "stdout"
        }
      ]
    },
    {
      "cell_type": "code",
      "metadata": {
        "colab": {
          "base_uri": "https://localhost:8080/"
        },
        "id": "pY_HzioXJI1e",
        "outputId": "521538e2-20c1-4a7a-abb4-458465fd8f12"
      },
      "source": [
        "#checking the data\n",
        "#check schema and data typs\n",
        "df.printSchema()"
      ],
      "execution_count": 53,
      "outputs": [
        {
          "output_type": "stream",
          "text": [
            "root\n",
            " |-- marketplace: string (nullable = true)\n",
            " |-- customer_id: integer (nullable = true)\n",
            " |-- review_id: string (nullable = true)\n",
            " |-- product_id: string (nullable = true)\n",
            " |-- product_parent: integer (nullable = true)\n",
            " |-- product_title: string (nullable = true)\n",
            " |-- product_category: string (nullable = true)\n",
            " |-- star_rating: integer (nullable = true)\n",
            " |-- helpful_votes: integer (nullable = true)\n",
            " |-- total_votes: integer (nullable = true)\n",
            " |-- vine: string (nullable = true)\n",
            " |-- verified_purchase: string (nullable = true)\n",
            " |-- review_headline: string (nullable = true)\n",
            " |-- review_body: string (nullable = true)\n",
            " |-- review_date: string (nullable = true)\n",
            "\n"
          ],
          "name": "stdout"
        }
      ]
    },
    {
      "cell_type": "code",
      "metadata": {
        "colab": {
          "base_uri": "https://localhost:8080/"
        },
        "id": "lEFHvKNeKaDc",
        "outputId": "84bafaa1-0e04-4e76-db4e-a6c1dd97cbf2"
      },
      "source": [
        "#check counts and summary - don't run it for a large data set\n",
        "df.describe().show()"
      ],
      "execution_count": 54,
      "outputs": [
        {
          "output_type": "stream",
          "text": [
            "+-------+-----------+--------------------+--------------+--------------------+--------------------+--------------------+----------------+------------------+------------------+------------------+-------+-----------------+---------------+--------------------+-----------+\n",
            "|summary|marketplace|         customer_id|     review_id|          product_id|      product_parent|       product_title|product_category|       star_rating|     helpful_votes|       total_votes|   vine|verified_purchase|review_headline|         review_body|review_date|\n",
            "+-------+-----------+--------------------+--------------+--------------------+--------------------+--------------------+----------------+------------------+------------------+------------------+-------+-----------------+---------------+--------------------+-----------+\n",
            "|  count|    2402458|             2402458|       2402458|             2402458|             2402458|             2402458|         2402434|           2402431|           2402431|           2402431|2402431|          2402431|        2402430|             2402227|    2402278|\n",
            "|   mean|       null|2.9592530694799658E7|          null| 5.592119163134658E9| 4.985861336476625E8|   1.302507684875E10|            null| 4.312228738307156|1.5453076487940756|1.9701939410538742|   null|             null|            NaN|4.353104065394879E10|       null|\n",
            "| stddev|       null|1.5178318674736673E7|          null|2.9809504488812547E9|2.8664778886601806E8|2.605015296216667E10|            null|1.2293751991275883|23.301268275206404|24.507433480635818|   null|             null|            NaN|2.500667900924421...|       null|\n",
            "|    min|         US|               10027|R10000TW8XYZ9S|          0268956898|                6450|\" Cuca\" Cockles (...|      2011-05-04|                 1|                 0|                 0|      N|                N|         \u001a\u001a\u001a\u001a\u001a\u001a|\u0010A real addition ...| 1999-09-05|\n",
            "|    max|         US|            53096574| RZZZXNU2M6KWN|          B01JK33IQ0|           999998597|      요뽀끼 Yopokki|         Grocery|                 5|             23755|             24170|      Y|                Y|             😩|            🙌🙌🙌🙌| 2015-08-31|\n",
            "+-------+-----------+--------------------+--------------+--------------------+--------------------+--------------------+----------------+------------------+------------------+------------------+-------+-----------------+---------------+--------------------+-----------+\n",
            "\n"
          ],
          "name": "stdout"
        }
      ]
    },
    {
      "cell_type": "code",
      "metadata": {
        "id": "dZsqHDyzQo3t"
      },
      "source": [
        "import pyspark.sql.functions as F  "
      ],
      "execution_count": 62,
      "outputs": []
    },
    {
      "cell_type": "code",
      "metadata": {
        "colab": {
          "base_uri": "https://localhost:8080/"
        },
        "id": "9PA1fcOPQpwt",
        "outputId": "26b04d1a-f9a1-436e-eab9-f8a683e3ff2d"
      },
      "source": [
        "df.agg(F.countDistinct(\"customer_id\"),F.countDistinct(\"product_id\"),F.countDistinct(\"review_id\"),F.count(\"review_id\")).collect()"
      ],
      "execution_count": 66,
      "outputs": [
        {
          "output_type": "execute_result",
          "data": {
            "text/plain": [
              "[Row(count(customer_id)=1363986, count(product_id)=305512, count(review_id)=2402458, count(review_id)=2402458)]"
            ]
          },
          "metadata": {
            "tags": []
          },
          "execution_count": 66
        }
      ]
    },
    {
      "cell_type": "code",
      "metadata": {
        "colab": {
          "base_uri": "https://localhost:8080/"
        },
        "id": "rsTw8F2XYMmM",
        "outputId": "a6a77c25-b7dd-4ae5-dc04-be165cc91c97"
      },
      "source": [
        "df.agg(F.count(\"review_id\"),F.countDistinct(\"review_id\"),F.sum(\"star_rating\"),F.sum(\"helpful_votes\"),F.sum(\"total_votes\")).collect()"
      ],
      "execution_count": 71,
      "outputs": [
        {
          "output_type": "execute_result",
          "data": {
            "text/plain": [
              "[Row(count(review_id)=2402458, count(review_id)=2402458, sum(star_rating)=10359832, sum(helpful_votes)=3712495, sum(total_votes)=4733255)]"
            ]
          },
          "metadata": {
            "tags": []
          },
          "execution_count": 71
        }
      ]
    },
    {
      "cell_type": "markdown",
      "metadata": {
        "id": "2yUSe55VY-9t"
      },
      "source": [
        "### Create DataFrames to match tables"
      ]
    },
    {
      "cell_type": "code",
      "metadata": {
        "id": "C8REmY1aY-9u",
        "colab": {
          "base_uri": "https://localhost:8080/"
        },
        "outputId": "f0526b0b-81b5-437b-a014-e8d03845cfa2"
      },
      "source": [
        "from pyspark.sql.functions import to_date\n",
        "# Read in the Review dataset as a DataFrame\n"
      ],
      "execution_count": 31,
      "outputs": [
        {
          "output_type": "stream",
          "text": [
            "root\n",
            " |-- marketplace: string (nullable = true)\n",
            " |-- customer_id: integer (nullable = true)\n",
            " |-- review_id: string (nullable = true)\n",
            " |-- product_id: string (nullable = true)\n",
            " |-- product_parent: integer (nullable = true)\n",
            " |-- product_title: string (nullable = true)\n",
            " |-- product_category: string (nullable = true)\n",
            " |-- star_rating: integer (nullable = true)\n",
            " |-- helpful_votes: integer (nullable = true)\n",
            " |-- total_votes: integer (nullable = true)\n",
            " |-- vine: string (nullable = true)\n",
            " |-- verified_purchase: string (nullable = true)\n",
            " |-- review_headline: string (nullable = true)\n",
            " |-- review_body: string (nullable = true)\n",
            " |-- review_date: string (nullable = true)\n",
            "\n"
          ],
          "name": "stdout"
        }
      ]
    },
    {
      "cell_type": "code",
      "metadata": {
        "id": "B0TESUDRY-90"
      },
      "source": [
        "# Create the customers_table DataFrame\n",
        "#Customer table has columns customer_id and   customer_count. So use a group by on the dataframe to get customer dataframe\n",
        "#To create the customers_table, Use the groupby() function on the customer_id column \n",
        "#Count all the customer ids using the agg() function by chaining it to the groupby() function. \n",
        "#After you use this function, a new column will be created, count(customer_id).\n",
        "#Rename the count(customer_id) column using the withColumnRenamed() function so it matches the schema for the customers_table in pgAdmin.\n",
        "customers_df = df.groupby(\"customer_id\").count().withColumnRenamed(\"count\",\"customer_count\")\n"
      ],
      "execution_count": 63,
      "outputs": []
    },
    {
      "cell_type": "code",
      "metadata": {
        "colab": {
          "base_uri": "https://localhost:8080/"
        },
        "id": "dxkNgqtkOX4U",
        "outputId": "ba900074-b723-4974-dc32-c51feb3ff4be"
      },
      "source": [
        "\n",
        "#check customer_df\n",
        "customers_df.agg(F.sum(\"customer_count\"),F.count(\"customer_id\")).collect()\n",
        " #customer count and no of customer matches with the the input data frame df"
      ],
      "execution_count": 59,
      "outputs": [
        {
          "output_type": "execute_result",
          "data": {
            "text/plain": [
              "[Row(sum(customer_count)=2402458, count(customer_id)=1363986)]"
            ]
          },
          "metadata": {
            "tags": []
          },
          "execution_count": 59
        }
      ]
    },
    {
      "cell_type": "code",
      "metadata": {
        "id": "4FwXA6UvY-96",
        "colab": {
          "base_uri": "https://localhost:8080/"
        },
        "outputId": "0c75c130-56d7-44fd-8014-7c20613f9fbf"
      },
      "source": [
        "# Create the products_table DataFrame and drop duplicates. \n",
        "#Product table has columns product_id, product_title \n",
        "products_df = df.select([\"product_id\",\"product_title\"]).drop_duplicates()\n",
        "products_df.show()\n"
      ],
      "execution_count": 51,
      "outputs": [
        {
          "output_type": "stream",
          "text": [
            "+----------+--------------------+\n",
            "|product_id|       product_title|\n",
            "+----------+--------------------+\n",
            "|B0088PCJ1C|Bob's Pickle Pops...|\n",
            "|B005P0U5BO|Envirokidz Organi...|\n",
            "|B00K2RY8GI|Coffee Variety Sa...|\n",
            "|B008233EI2|Once Again Organi...|\n",
            "|B0029K0U90|Mrs. Wages ALL NA...|\n",
            "|B003H4AMEU|Bhuja Crunchy Sea...|\n",
            "|B004AJIG76|Krusteaz Belgian ...|\n",
            "|B002LME6OQ|Prince of Peace O...|\n",
            "|B00NP7U2U8|Yoki - Cheese Bre...|\n",
            "|B00ISQD2YO|Nescafe with Coff...|\n",
            "|B003X35RR2|Bob's Red Mill Gl...|\n",
            "|B00WVSNJ8Y|Organic Valley, O...|\n",
            "|B0002UM13C|Sour Cherry Prese...|\n",
            "|B0042M7PS2|Rodelle Gourmet B...|\n",
            "|B002DVPTVO|Coffee Go Candy -...|\n",
            "|B008EL7N2U|Melitta Coffee Gr...|\n",
            "|B00CCS8Y5Q|Trader Joe's Coco...|\n",
            "|B006ZOXLF6|Flossugar (1/2 ga...|\n",
            "|B004RJ0C1W|Camp Chicory & Co...|\n",
            "|B005JJZ430|KONA BLEND COFFEE...|\n",
            "+----------+--------------------+\n",
            "only showing top 20 rows\n",
            "\n"
          ],
          "name": "stdout"
        }
      ]
    },
    {
      "cell_type": "code",
      "metadata": {
        "colab": {
          "base_uri": "https://localhost:8080/"
        },
        "id": "fiV7FygIRhNS",
        "outputId": "28df0b8f-4ab0-4a46-85b1-db225d3f9355"
      },
      "source": [
        "#check products_df\n",
        "products_df.agg(F.count(\"product_id\"),F.countDistinct(\"product_id\")).collect()\n",
        "#looks like the distinct product id in input data frame has slightly higher number due to product title might be different for same product id\n",
        "# due to duplicate we won't be able to insert in the table as product id is primary key and it will not load."
      ],
      "execution_count": 87,
      "outputs": [
        {
          "output_type": "execute_result",
          "data": {
            "text/plain": [
              "[Row(count(product_id)=305538, count(product_id)=305512)]"
            ]
          },
          "metadata": {
            "tags": []
          },
          "execution_count": 87
        }
      ]
    },
    {
      "cell_type": "code",
      "metadata": {
        "colab": {
          "base_uri": "https://localhost:8080/"
        },
        "id": "_LQ6Wy5LfMH3",
        "outputId": "52601b60-01f4-4570-fd29-1e16c4eed69c"
      },
      "source": [
        "#check duplicate rows in the porducts datafrae\n",
        "prod_dup_df =products_df.groupby(\"product_id\" ).count().filter(\"count >1\") \n",
        "prod_dup_df.orderBy(\"product_id\").show()\n"
      ],
      "execution_count": 82,
      "outputs": [
        {
          "output_type": "stream",
          "text": [
            "+----------+-----+\n",
            "|product_id|count|\n",
            "+----------+-----+\n",
            "|B004BUU488|   27|\n",
            "+----------+-----+\n",
            "\n"
          ],
          "name": "stdout"
        }
      ]
    },
    {
      "cell_type": "code",
      "metadata": {
        "colab": {
          "base_uri": "https://localhost:8080/"
        },
        "id": "rNOD6ajSgBXU",
        "outputId": "52926401-cd2c-4d75-fd18-3dc7c202df6e"
      },
      "source": [
        "#now check the title for these product id where multiple rows exists\n",
        "prod_dup_title_df = products_df.join(prod_dup_df,on=\"product_id\",how=\"inner\") \n",
        "prod_dup_title_df.show(truncate=False)"
      ],
      "execution_count": 85,
      "outputs": [
        {
          "output_type": "stream",
          "text": [
            "+----------+----------------------------------------------------------------------------------------------------------------------------------------------------------------------------------------------------------------------------------------------------------------------------------------------------------------------------------------------------------------------------------------------------------------------------------------------------------------------------------------------------------------------------------------------------------------------------------------------------------------------------------------------------------------------------------------------------------------------------------------------------------------------------------------------------------------------------------------------------------------------------------------------------------------------------------------------------------------------------------------------------------------------------------------------------------------------------------------------------------------------------------------------------------------------------+-----+\n",
            "|product_id|product_title                                                                                                                                                                                                                                                                                                                                                                                                                                                                                                                                                                                                                                                                                                                                                                                                                                                                                                                                                                                                                                                                                                                                                               |count|\n",
            "+----------+----------------------------------------------------------------------------------------------------------------------------------------------------------------------------------------------------------------------------------------------------------------------------------------------------------------------------------------------------------------------------------------------------------------------------------------------------------------------------------------------------------------------------------------------------------------------------------------------------------------------------------------------------------------------------------------------------------------------------------------------------------------------------------------------------------------------------------------------------------------------------------------------------------------------------------------------------------------------------------------------------------------------------------------------------------------------------------------------------------------------------------------------------------------------------+-----+\n",
            "|B004BUU488|Miracle Noodle Shirataki Fettucini 7 oz (Pack of 5)\tGrocery\t1\t6\t11\tN\tY\tBad\tThis was smelt of fish and were tough to eat Im was very disappointed in them not at all what I have seen on tv I will not buy them again\t2011-01-08                                                                                                                                                                                                                                                                                                                                                                                                                                                                                                                                                                                                                                                                                                                                                                                                                                                                                                                                             |27   |\n",
            "|B004BUU488|Miracle Noodle Shirataki Fettucini 7 oz (Pack of 5)\tGrocery\t5\t6\t7\tN\tY\tGood alternative to pasta\tI love pasta.  I love everything about pasta except the weight I've gained from pasta.  These noodles are a wonderful alternative to pasta.  You get a similar (not exactly the same) texture and you can use healthy sauces.  The noodles are little chewy/rubbery.  However, when I'm craving pasta and I know I shouldn't have any, the shirataki noodles are the best alternative.  These were a great find for me and my dietary needs/wants.  Note: you MUST rinse them.  I put them in a colander and rinse them for at least 10 minutes.\t2011-04-19                                                                                                                                                                                                                                                                                                                                                                                                                                                                                                                 |27   |\n",
            "|B004BUU488|Miracle Noodle Shirataki Fettucini 7 oz (Pack of 5)\tGrocery\t5\t7\t8\tN\tN\tI love them!\tI love em!<br />I just ate my first batch. I rinsed several times (they did smell) then boiled in Not-Chick'n golden broth (with other spices) for one minute full boil (took 2 minutes to start boiling again so 3 total). Next I'm going to try them with pasta sauce. This are GREAT!!!! Try them!\t2011-05-12                                                                                                                                                                                                                                                                                                                                                                                                                                                                                                                                                                                                                                                                                                                                                                         |27   |\n",
            "|B004BUU488|Miracle Noodle Shirataki Fettucini 7 oz (Pack of 5)\tGrocery\t5\t0\t0\tN\tY\tGreat for diets\tIf you crave carb-y things on a low carb diet, look no further- I've made carbonara, pad Thai and other such noodle dishes with this (as well as rice dishes with the same brand's miracle rice.) Everything always comes out great, everyone always loves it- and yes, it's a little different, but really, it sates you so well when you're trying to stay on track but want to eat &#34;real&#34; food and not just salads :)\t2014-02-20                                                                                                                                                                                                                                                                                                                                                                                                                                                                                                                                                                                                                                           |27   |\n",
            "|B004BUU488|Miracle Noodle Shirataki Fettucini 7 oz (Pack of 5)\tGrocery\t4\t1\t1\tN\tY\tMiracle noodles\tThey are great for the low carb diet, they are easy to cook with any sauce and absorbs all the flavors you toss in with the noodles.\t2012-03-27                                                                                                                                                                                                                                                                                                                                                                                                                                                                                                                                                                                                                                                                                                                                                                                                                                                                                                                                       |27   |\n",
            "|B004BUU488|Miracle Noodle Shirataki Fettucini 7 oz (Pack of 5)\tGrocery\t5\t7\t8\tN\tN\tFilling!\tThis product is a lifesaver for us! We are on a strict form of the HCG diet and added these noodles to our maintenance phase. We missed pasta and it is a great alternative. I added meat and tomato sauce and found it very filling! I recommend these to others on the diet, or those who have gluten allergies. Remember to rinse, boil one minute and pat dry before using. You will notice a fishy smell when you open the package, but it goes away when you prepare them. Thank you for a great product...I just ordered the variety package and will make some more recipes with seafood and veggies!\t2011-04-05                                                                                                                                                                                                                                                                                                                                                                                                                                                                     |27   |\n",
            "|B004BUU488|\"Miracle Noodle Shirataki Fettucini 7 oz (Pack of 5)\tGrocery\t5\t12\t13\tN\tY\tSome things you should know!\tI didn't realize these packages are full of water (didn't read enough info apparently). It is best to cut a corner off and drain all the water out over a screen of some type. I warn you, the water smells a bit funny. However, that smell does NOT translate to the noodle when in the meal so don't throw it away. The noodles are really really long and don't break as easy as normal pasta in your mouth so it is best to cut them up with a pair of kitchen scissors (i made them about 4\\\" or less). The package says two servings and I didn't think that would be correct when holding a package in my hand. However, the noodles really have a lot of substance and it is definitely two servings when you add other stuff. Not what I expected (thought I would get a package of dry noodles that had more servings) but they are great and I love them! What a relief to get a good noodle for soups, Italian dishes, and stir-fry without any carbs or calories. I just wish I could get these every month on a subscription like with other groceries.|27   |\n",
            "|B004BUU488|Miracle Noodle Shirataki Fettucini 7 oz (Pack of 5)\tGrocery\t5\t2\t2\tN\tY\tMiracle Noodle\tThese noodles are awesome.  0 calories and easy to cook with.  They take the flavor of whatever sauce you cook them with.  I used them instead of spaghetti.  Yummy!\t2011-06-01                                                                                                                                                                                                                                                                                                                                                                                                                                                                                                                                                                                                                                                                                                                                                                                                                                                                                                        |27   |\n",
            "|B004BUU488|Miracle Noodle Shirataki Fettucini 7 oz (Pack of 5)\tGrocery\t4\t0\t0\tN\tY\tVersatile, calorie free, good product.\tI truly like these noodles because they are filling, take on the flavor of whatever you cook them in or add to them, have zero net carbs and practically zero calories. As a diet product, they are a dream come true. Even if you are not on a diet, they are a much better health choice than white flour noodles; they do not spike your blood sugar as flour pasta does, and they add plenty of fiber to your meal. I have put these in home-made soups, used them to make PadThai, used with marinara sauce, etc. They are chewier / firmer than flour pasta, but if you like pasta al dente you will love these.\t2013-02-21                                                                                                                                                                                                                                                                                                                                                                                                                              |27   |\n",
            "|B004BUU488|Miracle Noodle Shirataki Fettucini 7 oz (Pack of 5)\tGrocery\t1\t5\t6\tN\tY\tMiracle Noodle Shirataki Fettucini\tWy wife saw the ad for this product and believed it was good,so she ordered the pack of five.  It is totally disgusting.  It is like eating SLIME.  It is slippery and gives you a nautious feeling when trying to chew and swallow it.\t2011-12-29                                                                                                                                                                                                                                                                                                                                                                                                                                                                                                                                                                                                                                                                                                                                                                                                                 |27   |\n",
            "|B004BUU488|\"Miracle Noodle Shirataki Fettucini 7 oz (Pack of 5)\tGrocery\t5\t5\t6\tN\tN\tGreat for HCG!\tWhile it is true that these stink right out of the bag, the smell goes away with a rinse and they are great after! We use them on the HCG diet - mostly with chicken and shrimp. They take on the flavor of  your dish, so for us it has been Old Bay Seasoning (or a similar alternative), Garlic and spices and the chicken. We affectionately refer to them as \\\"rubber noodles\\\\\" but not because they are rubbery, as I might have thought. Just because they are more stout out of the water than run of the mill noodles and are really long! The kids, which are both still pretty small, really like them! They haven't figured out that they're not the usual whole wheat pasta we normally fix. :) And because they take on the flavor of the dish, it isn't hard to make something they won't eat. Great find and excellent choice for anyone on a diet or wanting to make a healthy alternative. A little more expensive than brand x in the stores, but worth it, in my opinion, for better health.                                                                     |27   |\n",
            "|B004BUU488|Miracle Noodle Shirataki Fettucini 7 oz (Pack of 5)\tGrocery\t4\t7\t7\tN\tY\tMiracle Noodles are great!\tI would highly recommend this product be used in any Asian dish.  Love that I can have this on my diet.  Personally wouldn't recommend as a replacement for Italian pastas.\t2011-04-09                                                                                                                                                                                                                                                                                                                                                                                                                                                                                                                                                                                                                                                                                                                                                                                                                                                                                     |27   |\n",
            "|B004BUU488|Miracle Noodle Shirataki Fettucini 7 oz (Pack of 5)\tGrocery\t1\t1\t1\tN\tY\tEEWWW\tI bought this hoping to help me lose weight but chewing it was like chewing on rubber worms. Good luck!\t2013-01-26                                                                                                                                                                                                                                                                                                                                                                                                                                                                                                                                                                                                                                                                                                                                                                                                                                                                                                                                                                              |27   |\n",
            "|B004BUU488|Miracle Noodle Shirataki Fettucini 7 oz (Pack of 5)\tGrocery\t1\t6\t9\tN\tY\tLike Eating a Tapeworm\tLike others have said, I really wanted to like these.  While I didn't expect anything approximating true noodles, I was not prepared for these.   This is only a noodle (or fettucine in this case) insofar as the shape is the same.  But that's where the similarity ends.   This is a translucent slimy tapeworm-resembling product that does not remotely resemble food.  I tried it with spaghetti sauce and cheese and the only thing that made it edible was mixing it with true pasta.  But of course that defeats the purpose of the zero calorie angle. While I was thinking perhaps this could act as a filler or stretcher for pasta to lessen the calories, I have to say it is not worth it.  I rather just eat the one or two forkfuls of real pasta than mix it with this.      P.S.- You may want to put on a DVD of Fear Factor to give you courage to eat this-  or just that old Charlie Chaplin movie where he eats his shoe.\t2011-05-12                                                                                                                  |27   |\n",
            "|B004BUU488|Miracle Noodle Shirataki Fettucini 7 oz (Pack of 5)\tGrocery\t5\t15\t15\tN\tN\tThe greatest addition to our meals\tMy husband and I have these noodles everyday. I can create easy meals with them. Love to stir fry onions, garlic, fresh tomatoes and add seasonings , taco sauce or salsa , chili powder, ginger all in water. Then maybe some meat 3.5 ozs . Can slice frozen chicken breasts in processor then stir fry till done. Just a few minutes then rinse noodles in strainer and add to stir fry when everything else is done. You have a plate full of food and most calories are from the meat. Very satisfying. My husband has lost over 40-50 lbs and I have lost over 30 lbs. This is one addition to the rest of our lives. We can make this meal in less time then going for fast food. And even better make double portions for lunch the next day.\t2011-02-08                                                                                                                                                                                                                                                                                                 |27   |\n",
            "|B004BUU488|Miracle Noodle Shirataki Fettucini 7 oz (Pack of 5)\tGrocery\t1\t8\t14\tN\tN\tbody cannot tolerate glucomannan\tLearned after eating these I have a food intolerance to the konju root/glucomannan.  Purchased to help lose weight.  Got opposite affect.  Major water retention throughout  my whole body.  After several months of eating noodles, 5# weight gain.  Stopped eating  the noodles and dropped 5# in 4 days.  No complaint about the flavor or texture.\t2011-02-15                                                                                                                                                                                                                                                                                                                                                                                                                                                                                                                                                                                                                                                                                                   |27   |\n",
            "|B004BUU488|Miracle Noodle Shirataki Fettucini 7 oz (Pack of 5)\tGrocery\t5\t25\t25\tN\tY\tWONDERFUL HEALTHY ALTERNATIVE!!\tYes, these do smell fishy straight out of the package but you just need to rinse them for a few minutes and the smell will go away. Also, whatever sauce you use will soak into the noodle and you will not taste any fishiness. I make a very tasty asian dish with these noodles, some cut up chicken breast and Liquid Aminos as the sauce and the total calories is about 100 for a serving! You cannot beat that! Not only that, these noodles will make you feel full afterwards. Definitely worth trying - keep an open mind & prepare them right and you will NOT be disappointed!\t2011-01-17                                                                                                                                                                                                                                                                                                                                                                                                                                                               |27   |\n",
            "|B004BUU488|Miracle Noodle Shirataki Fettucini 7 oz (Pack of 5)\tGrocery\t5\t4\t4\tN\tN\tLove them!\tIf you are expecting them to taste like regular pasta then yes you may be disappointed. They don't have much of a taste at all but they do absorb flavor pretty well and they are filling too! I have heard some people say they have a fish smell but I did not experience that. There is an odor when you first open the bag that is not so pleasant but I didn't think it was fishy. Once you rinse them off the odor is gone. I saute some garlic and peppers with a little olive oil and red wine vinegar and add the noodles in. They soak up the yumminess. I have also tried them with soy sauce and some Asian stir fry veggies... Delicious and satisfying!! I am definitely a fan =)\t2011-06-17                                                                                                                                                                                                                                                                                                                                                                                 |27   |\n",
            "|B004BUU488|Miracle Noodle Shirataki Fettucini 7 oz (Pack of 5)\tGrocery\t4\t10\t10\tN\tY\t50-50\tMade a Pasta Puttanesca last night to pour over the Miracle Noodles that I recently bought. They aren't a wheat noodle but they are a passable substitute.  At least for me.  My wife didn't care for them and I will be finishing up the remaining packages on my own.  The texture is similar to a rice noodle but they have almost no flavor of their own.  The sauce didn't stick to the noodles as nicely as it does with regular pasta and because of this, the finished dish didn't look all that appetizing.<br /><br />I will try a red sauce next time in hopes that it will make for a better presentation. I give it a thumbs up for anyone trying to cut carbs.  My wife a definite thumbs down based on appearance and texture.\t2011-02-28                                                                                                                                                                                                                                                                                                                                      |27   |\n",
            "|B004BUU488|Miracle Noodle Shirataki Fettucini 7 oz (Pack of 5)\tGrocery\t5\t0\t0\tN\tY\tTastes great\tUsed it with my homemade marina sauce that has no sugar so this was a very filling meal.  Used a bag well after the expiration date and didn't notice a difference in the taste.\t2013-04-28                                                                                                                                                                                                                                                                                                                                                                                                                                                                                                                                                                                                                                                                                                                                                                                                                                                                                              |27   |\n",
            "+----------+----------------------------------------------------------------------------------------------------------------------------------------------------------------------------------------------------------------------------------------------------------------------------------------------------------------------------------------------------------------------------------------------------------------------------------------------------------------------------------------------------------------------------------------------------------------------------------------------------------------------------------------------------------------------------------------------------------------------------------------------------------------------------------------------------------------------------------------------------------------------------------------------------------------------------------------------------------------------------------------------------------------------------------------------------------------------------------------------------------------------------------------------------------------------------+-----+\n",
            "only showing top 20 rows\n",
            "\n"
          ],
          "name": "stdout"
        }
      ]
    },
    {
      "cell_type": "code",
      "metadata": {
        "colab": {
          "base_uri": "https://localhost:8080/"
        },
        "id": "yi4Gr3Geg2DG",
        "outputId": "86183dfa-9687-4879-ee57-72b5d0212f47"
      },
      "source": [
        "#based on the above data , it seems like there was some problem in reading these rows. so for now we will delete these records.\n",
        "products_df=products_df.where(\"product_id != 'B004BUU488'\")\n",
        "\n",
        "products_df.agg(F.count(\"product_id\"),F.countDistinct(\"product_id\")).collect()\n"
      ],
      "execution_count": 89,
      "outputs": [
        {
          "output_type": "execute_result",
          "data": {
            "text/plain": [
              "[Row(count(product_id)=305511, count(product_id)=305511)]"
            ]
          },
          "metadata": {
            "tags": []
          },
          "execution_count": 89
        }
      ]
    },
    {
      "cell_type": "code",
      "metadata": {
        "id": "MkqyCuNQY-9-",
        "colab": {
          "base_uri": "https://localhost:8080/"
        },
        "outputId": "ca41a7ad-ce99-4e9e-9bbb-1943c74bac4c"
      },
      "source": [
        "# Create the review_id_table DataFrame. \n",
        "#reivew table has following columns review_id, customer_id,product_id,product_parent,review_date is a date.\n",
        "#as review date is a date but in the dataframe is a string , we should convert it to date.\n",
        "review_id_df = df.select([\"review_id\",\"customer_id\",\"product_id\",\"product_parent\", to_date(\"review_date\", 'yyyy-MM-dd').alias(\"review_date\")]).where(\"product_id != 'B004BUU488'\")\n",
        "review_id_df.show()"
      ],
      "execution_count": 90,
      "outputs": [
        {
          "output_type": "stream",
          "text": [
            "+--------------+-----------+----------+--------------+-----------+\n",
            "|     review_id|customer_id|product_id|product_parent|review_date|\n",
            "+--------------+-----------+----------+--------------+-----------+\n",
            "|R26MV8D0KG6QI6|   42521656|B000SAQCWC|     159713740| 2015-08-31|\n",
            "|R1OF8GP57AQ1A0|   12049833|B00509LVIQ|     138680402| 2015-08-31|\n",
            "|R3VDC1QB6MC4ZZ|     107642|B00KHXESLC|     252021703| 2015-08-31|\n",
            "|R12FA3DCF8F9ER|    6042304|B000F8JIIC|     752728342| 2015-08-31|\n",
            "| RTWHVNV6X4CNJ|   18123821|B004ZWR9RQ|     552138758| 2015-08-31|\n",
            "| RIG9AWFOGRDVO|   23649464|B00AL6QBZ6|     681475449| 2015-08-31|\n",
            "|R1S1XSG4ZCHDGS|   32778285|B00BCNSTRA|     578681693| 2015-08-31|\n",
            "| RB15NBVY5ELVW|   46612941|B0089MM2BG|     350968436| 2015-08-31|\n",
            "| R56358YM1ZJ7I|   31525399|B00Y1C9770|     729982780| 2015-08-31|\n",
            "|R1ODXB3C9UP3NL|   19624355|B00J074W94|       2499702| 2015-08-31|\n",
            "|R155ZMVLD5C9BP|   31910375|B0001VKKOO|     189938205| 2015-08-31|\n",
            "|R2IXW43PUNYM0G|   12816533|B007TGH4CK|     398128262| 2015-08-31|\n",
            "|R3LYEG1QCK2BG0|   23208852|B002HMN6SC|      18057786| 2015-08-31|\n",
            "|R20LREICPM3YH0|   17348415|B004NRHAZO|     595020880| 2015-08-31|\n",
            "| RHA5COCZDVB13|   46763945|B00V7LJIG8|     173088090| 2015-08-31|\n",
            "| RT9BGRQANMANE|     961747|B0000E2YFI|     120269621| 2015-08-31|\n",
            "| ROD1TU5JCS7JQ|   16888081|B00VK5SQOQ|     204992966| 2015-08-31|\n",
            "|R3T6TTD2IN0EFZ|   22765168|B00XDXMLL2|     971154239| 2015-08-31|\n",
            "|R1OCUGZ444NKV3|   36328996|B00MN4KX3A|     787182505| 2015-08-31|\n",
            "| RCQQGWTC4J4TZ|   27092724|B004NTCE1M|     653570135| 2015-08-31|\n",
            "+--------------+-----------+----------+--------------+-----------+\n",
            "only showing top 20 rows\n",
            "\n"
          ],
          "name": "stdout"
        }
      ]
    },
    {
      "cell_type": "code",
      "metadata": {
        "colab": {
          "base_uri": "https://localhost:8080/"
        },
        "id": "42P3O3noXQyV",
        "outputId": "28d2b4fb-4e1c-4750-ad79-9cd7094324f1"
      },
      "source": [
        "review_id_df.agg(F.count(\"review_id\"),F.countDistinct(\"review_id\"),F.min(\"review_date\"),F.max(\"review_date\")).collect()"
      ],
      "execution_count": 91,
      "outputs": [
        {
          "output_type": "execute_result",
          "data": {
            "text/plain": [
              "[Row(count(review_id)=2402431, count(review_id)=2402431, min(review_date)=datetime.date(1999, 9, 5), max(review_date)=datetime.date(2015, 8, 31))]"
            ]
          },
          "metadata": {
            "tags": []
          },
          "execution_count": 91
        }
      ]
    },
    {
      "cell_type": "markdown",
      "metadata": {
        "id": "aqrD8KRWIJpY"
      },
      "source": [
        ""
      ]
    },
    {
      "cell_type": "code",
      "metadata": {
        "id": "lzMmkdKmY--D",
        "colab": {
          "base_uri": "https://localhost:8080/"
        },
        "outputId": "857bdef8-0902-43cc-d01b-4e31fac1623c"
      },
      "source": [
        "# Create the vine_table. DataFrame\n",
        "#Vine table has following columns review_id ,  star_rating ,  helpful_votes ,  total_votes ,  vine ,  verified_purchase \n",
        "vine_df = df.select([\"review_id\",\"star_rating\",\"helpful_votes\",\"total_votes\",\"vine\",\"verified_purchase\"]).where(\"product_id != 'B004BUU488'\")\n",
        "vine_df.show()"
      ],
      "execution_count": 92,
      "outputs": [
        {
          "output_type": "stream",
          "text": [
            "+--------------+-----------+-------------+-----------+----+-----------------+\n",
            "|     review_id|star_rating|helpful_votes|total_votes|vine|verified_purchase|\n",
            "+--------------+-----------+-------------+-----------+----+-----------------+\n",
            "|R26MV8D0KG6QI6|          5|            0|          0|   N|                Y|\n",
            "|R1OF8GP57AQ1A0|          5|            0|          0|   N|                Y|\n",
            "|R3VDC1QB6MC4ZZ|          5|            0|          0|   N|                N|\n",
            "|R12FA3DCF8F9ER|          5|            0|          0|   N|                Y|\n",
            "| RTWHVNV6X4CNJ|          5|            0|          0|   N|                Y|\n",
            "| RIG9AWFOGRDVO|          2|            1|          1|   N|                Y|\n",
            "|R1S1XSG4ZCHDGS|          5|            1|          1|   N|                Y|\n",
            "| RB15NBVY5ELVW|          5|            2|          2|   N|                Y|\n",
            "| R56358YM1ZJ7I|          5|            0|          0|   N|                N|\n",
            "|R1ODXB3C9UP3NL|          1|            1|          3|   N|                N|\n",
            "|R155ZMVLD5C9BP|          4|            3|          4|   N|                Y|\n",
            "|R2IXW43PUNYM0G|          4|            1|          1|   N|                Y|\n",
            "|R3LYEG1QCK2BG0|          5|            0|          0|   N|                Y|\n",
            "|R20LREICPM3YH0|          5|            0|          0|   N|                Y|\n",
            "| RHA5COCZDVB13|          5|            0|          0|   N|                Y|\n",
            "| RT9BGRQANMANE|          5|            0|          0|   N|                Y|\n",
            "| ROD1TU5JCS7JQ|          5|            0|          0|   N|                N|\n",
            "|R3T6TTD2IN0EFZ|          1|            4|          4|   N|                N|\n",
            "|R1OCUGZ444NKV3|          5|            5|          5|   N|                Y|\n",
            "| RCQQGWTC4J4TZ|          4|            0|          0|   N|                Y|\n",
            "+--------------+-----------+-------------+-----------+----+-----------------+\n",
            "only showing top 20 rows\n",
            "\n"
          ],
          "name": "stdout"
        }
      ]
    },
    {
      "cell_type": "code",
      "metadata": {
        "colab": {
          "base_uri": "https://localhost:8080/"
        },
        "id": "v7osZNcqXmwc",
        "outputId": "7e29eebf-eae4-4be4-fc8a-4e9728e5473b"
      },
      "source": [
        "vine_df.agg(F.count(\"review_id\"),F.countDistinct(\"review_id\"),F.sum(\"star_rating\"),F.sum(\"helpful_votes\"),F.sum(\"total_votes\")).collect()"
      ],
      "execution_count": 93,
      "outputs": [
        {
          "output_type": "execute_result",
          "data": {
            "text/plain": [
              "[Row(count(review_id)=2402431, count(review_id)=2402431, sum(star_rating)=10359832, sum(helpful_votes)=3712495, sum(total_votes)=4733255)]"
            ]
          },
          "metadata": {
            "tags": []
          },
          "execution_count": 93
        }
      ]
    },
    {
      "cell_type": "markdown",
      "metadata": {
        "id": "jITZhLkmY--J"
      },
      "source": [
        "### Connect to the AWS RDS instance and write each DataFrame to its table. "
      ]
    },
    {
      "cell_type": "code",
      "metadata": {
        "id": "7jiUvs1aY--L"
      },
      "source": [
        "# Configure settings for RDS\n",
        "mode = \"append\"\n",
        "jdbc_url=\"jdbc:postgresql://dataviz.crjqhmcwnxji.us-east-2.rds.amazonaws.com:5432/<database name> \"\n",
        "config = {\"user\":\"postgres\", \n",
        "          \"password\": \"<passowrd>\", \n",
        "          \"driver\":\"org.postgresql.Driver\"}"
      ],
      "execution_count": 95,
      "outputs": []
    },
    {
      "cell_type": "code",
      "metadata": {
        "id": "T2zgZ-aKY--Q"
      },
      "source": [
        "# Write review_id_df to table in RDS\n",
        "review_id_df.write.jdbc(url=jdbc_url, table='review_id_table', mode=mode, properties=config)"
      ],
      "execution_count": 96,
      "outputs": []
    },
    {
      "cell_type": "code",
      "metadata": {
        "id": "1m3yzn-LY--U"
      },
      "source": [
        "# Write products_df to table in RDS\n",
        "# about 3 min\n",
        "products_df.write.jdbc(url=jdbc_url, table='products_table', mode=mode, properties=config)"
      ],
      "execution_count": 97,
      "outputs": []
    },
    {
      "cell_type": "code",
      "metadata": {
        "id": "KbXri15fY--Z"
      },
      "source": [
        "# Write customers_df to table in RDS\n",
        "# 5 min 14 s\n",
        "customers_df.write.jdbc(url=jdbc_url, table='customers_table', mode=mode, properties=config)"
      ],
      "execution_count": 100,
      "outputs": []
    },
    {
      "cell_type": "code",
      "metadata": {
        "id": "XdQknSHLY--e"
      },
      "source": [
        "# Write vine_df to table in RDS\n",
        "# 11 minutes\n",
        "vine_df.write.jdbc(url=jdbc_url, table='vine_table', mode=mode, properties=config)"
      ],
      "execution_count": 101,
      "outputs": []
    },
    {
      "cell_type": "code",
      "metadata": {
        "id": "Exuo6ebUsCqW"
      },
      "source": [
        ""
      ],
      "execution_count": null,
      "outputs": []
    }
  ]
}